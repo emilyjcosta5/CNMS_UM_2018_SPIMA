{
 "cells": [
  {
   "cell_type": "markdown",
   "metadata": {},
   "source": [
    "# Imaging and Spectral Data Analysis in Python\n",
    "\n",
    "Developed by:\n",
    "\n",
    "* Suhas Somnath\n",
    "* Rama K. Vasudevan\n",
    "* Chris Smith\n",
    "* Stephen Jesse\n",
    "\n",
    "*Aug 13th 2018*\n",
    "\n",
    "**Oak Ridge National Laboratory**\n",
    "\n",
    "## Basics / Prerequisites:\n",
    "1. [Jupyter Noteooks](00_a_jupyter_notebooks.ipynb)\n",
    "2. [Crash course in Python](00_b_Python.ipynb)\n",
    "3. [Crash course in Numerical analysis using NumPy](00_c_numpy.ipynb)\n",
    "\n",
    "## Workshop:\n",
    "1. [Basics of HDF5 and h5py](01_h5py.ipynb)\n",
    "2. [Interacting with multidimensional datasets via USIDatasets]()\n",
    "3. [Reading h5USID datasets](03_hdf_utils_read.ipynb)\n",
    "4. [Translating proprietary data formats to h5USID]()\n",
    "5. [Writing h5USID datasets](05_hdf_utils_write.ipynb)\n",
    "6. [Processing data quickly in parallel](06_parallel_compute.ipynb)\n",
    "7. [Formalizing data processing](07_process.ipynb)"
   ]
  },
  {
   "cell_type": "code",
   "execution_count": null,
   "metadata": {
    "collapsed": true
   },
   "outputs": [],
   "source": []
  }
 ],
 "metadata": {
  "kernelspec": {
   "display_name": "Python [default]",
   "language": "python",
   "name": "python3"
  },
  "language_info": {
   "codemirror_mode": {
    "name": "ipython",
    "version": 3
   },
   "file_extension": ".py",
   "mimetype": "text/x-python",
   "name": "python",
   "nbconvert_exporter": "python",
   "pygments_lexer": "ipython3",
   "version": "3.5.2"
  }
 },
 "nbformat": 4,
 "nbformat_minor": 1
}

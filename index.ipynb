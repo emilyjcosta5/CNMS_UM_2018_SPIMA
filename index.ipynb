{
 "cells": [
  {
   "cell_type": "markdown",
   "metadata": {},
   "source": [
    "# Imaging and Spectral Data Analysis in Python\n",
    "*Aug 13th 2018*\n",
    "\n",
    "Developed by:\n",
    "\n",
    "* Suhas Somnath\n",
    "* Rama K. Vasudevan\n",
    "* Stephen Jesse\n",
    "* Liam Collins\n",
    "* Chris Smith\n",
    "\n",
    "**Oak Ridge National Laboratory**\n",
    "\n",
    "1. [Jupyter Noteooks](01_jupyter_notebooks.ipynb)\n",
    "2. [Python](02_Python.ipynb)\n",
    "3. [Numerical analysis using NumPy](03_numpy.ipynb)\n",
    "4. [Visualization using MatPlotLib](04_Visualization.ipynb)\n",
    "5. [Spectral processing](05_Spectral_Processing.ipynb)\n",
    "6. [Image processing](06_Image_Processing.ipynb)\n",
    "7. [Spectral unmixing and clustering](07_Spectral_Unmixing.ipynb)\n",
    "8. [Efforts at ORNL](USID_pyUSID_pycroscopy.pdf)"
   ]
  },
  {
   "cell_type": "code",
   "execution_count": null,
   "metadata": {
    "collapsed": true
   },
   "outputs": [],
   "source": []
  }
 ],
 "metadata": {
  "kernelspec": {
   "display_name": "Python 3",
   "language": "python",
   "name": "python3"
  },
  "language_info": {
   "codemirror_mode": {
    "name": "ipython",
    "version": 3
   },
   "file_extension": ".py",
   "mimetype": "text/x-python",
   "name": "python",
   "nbconvert_exporter": "python",
   "pygments_lexer": "ipython3",
   "version": "3.5.5"
  }
 },
 "nbformat": 4,
 "nbformat_minor": 1
}

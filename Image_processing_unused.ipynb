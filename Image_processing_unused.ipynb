{
 "cells": [
  {
   "cell_type": "markdown",
   "metadata": {},
   "source": [
    "## Contrast normalization:"
   ]
  },
  {
   "cell_type": "code",
   "execution_count": null,
   "metadata": {},
   "outputs": [],
   "source": [
    "p2, p98 = np.percentile(stem_image, (2, 95))\n",
    "img_rescale = exposure.rescale_intensity(stem_image, in_range=(p2, p98))\n",
    "\n",
    "fig, axes = plt.subplots(ncols=2, figsize=(12, 6))\n",
    "for axis, img, title in zip(axes, [stem_image, img_rescale], ['Original', 'Rescaled']):\n",
    "    axis.imshow(img, cmap='gray')\n",
    "    axis.set_title(title)"
   ]
  },
  {
   "cell_type": "code",
   "execution_count": null,
   "metadata": {},
   "outputs": [],
   "source": [
    "fig, axis = plt.subplots()\n",
    "axis.hist(img_rescale.ravel(), bins=256, histtype='step', color='black');"
   ]
  },
  {
   "cell_type": "markdown",
   "metadata": {},
   "source": [
    "### Adaptive adjustment:"
   ]
  },
  {
   "cell_type": "code",
   "execution_count": null,
   "metadata": {},
   "outputs": [],
   "source": [
    "img_adapteq = exposure.equalize_adapthist(img, clip_limit=0.03)\n",
    "\n",
    "fig, axes = plt.subplots(ncols=2, figsize=(12, 6))\n",
    "for axis, img, title in zip(axes, [stem_image, img_rescale], ['Original', 'Adaptive Rescaled']):\n",
    "    axis.imshow(img, cmap='gray')\n",
    "    axis.set_title(title)"
   ]
  },
  {
   "cell_type": "markdown",
   "metadata": {},
   "source": [
    "# Atom finding:"
   ]
  },
  {
   "cell_type": "code",
   "execution_count": null,
   "metadata": {},
   "outputs": [],
   "source": [
    "# Filtering the image slightly before attempting to find atoms\n",
    "gaussian_filtered = filters.gaussian(stem_image[:128,  :128], sigma=1.875)\n",
    "\n",
    "result = blob_log(gaussian_filtered, max_sigma=5, num_sigma=10, threshold=0.01)\n",
    "\n",
    "fig, axis = plt.subplots(figsize=(5, 5))\n",
    "axis.imshow(gaussian_filtered, cmap='gray')\n",
    "axis.scatter(result[:, 1], result[:, 0], s=15, c='r')\n",
    "axis.set_xlim(left=0, right=gaussian_filtered.shape[0])\n",
    "axis.set_ylim(bottom=0, top=gaussian_filtered.shape[1]);"
   ]
  },
  {
   "cell_type": "markdown",
   "metadata": {},
   "source": [
    "* https://www.scipy-lectures.org/packages/scikit-image/\n",
    "* Registration + alignment\n",
    "* Segmentation\n",
    "    * Watershed especially (http://scikit-image.org/docs/dev/auto_examples/segmentation/plot_watershed.html)\n",
    "    \n",
    "    https://www.scipy-lectures.org/packages/scikit-image/#feature-extraction-for-computer-vision\n",
    "    \n",
    "    https://scikit-image.org/docs/dev/auto_examples/color_exposure/plot_regional_maxima.html#sphx-glr-auto-examples-color-exposure-plot-regional-maxima-py\n",
    "    \n",
    "    http://members.cbio.mines-paristech.fr/~nvaroquaux/formations/scipy-lecture-notes/advanced/image_processing/index.html\n",
    "    \n",
    "    https://www.practicepython.org/blog/2016/12/20/instagram-filters-python.html"
   ]
  },
  {
   "cell_type": "code",
   "execution_count": null,
   "metadata": {},
   "outputs": [],
   "source": []
  }
 ],
 "metadata": {
  "kernelspec": {
   "display_name": "Python 3",
   "language": "python",
   "name": "python3"
  },
  "language_info": {
   "codemirror_mode": {
    "name": "ipython",
    "version": 3
   },
   "file_extension": ".py",
   "mimetype": "text/x-python",
   "name": "python",
   "nbconvert_exporter": "python",
   "pygments_lexer": "ipython3",
   "version": "3.5.5"
  }
 },
 "nbformat": 4,
 "nbformat_minor": 2
}

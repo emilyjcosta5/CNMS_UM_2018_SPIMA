{
  "cells": [
    {
      "cell_type": "code",
      "source": [
        "%matplotlib inline"
      ],
      "outputs": [],
      "execution_count": null,
      "metadata": {
        "collapsed": false
      }
    },
    {
      "cell_type": "markdown",
      "source": [
        "\n",
        "================================================================================\n",
        "10. Formalizing Data Processing\n",
        "================================================================================\n",
        "\n",
        "**Suhas Somnath**\n",
        "\n",
        "4/26/2018\n",
        "\n"
      ],
      "metadata": {}
    },
    {
      "cell_type": "markdown",
      "source": [
        "**In this example, we will learn how to write a simple yet formal pyUSID class for processing data.**\n",
        "\n",
        "Introduction\n",
        "------------\n",
        "Most of code written for scientific research is in the form of single-use / one-off scripts due to a few common\n",
        "reasons:\n",
        "\n",
        "* the author feels that it is the fastest mode to accomplishing a research task\n",
        "* the author feels that they are unlikely to perform the same operation again\n",
        "* the author does not anticipate the possibility that others may need to run their code\n",
        "\n",
        "However, more often than not, nearly all researchers have found that one or more of these assumptions fail and a lot\n",
        "of time is spent on fixing bugs and generalizing / formalizing code such that it can be shared or reused. Moreover, we\n",
        "live in an era of open science where the scientific community and an ever-increasing number of scientific journals\n",
        "are moving towards a paradigm where the data and code need to be made available with journal papers. Therefore, in the\n",
        "interest of saving time, energy, and reputation (you do not want to show ugly code / data. Instead you want to be the\n",
        "paragon of clean intelligible data and code), it makes a lot more sense to formalize (parts of) one's data analysis\n",
        "code.\n",
        "\n",
        "For many researchers, formalizing data processing or analysis may seem like a daunting task due to the complexity of\n",
        "and the number of sub-operations that need to performed. ``pyUSID.Process`` greatly simplifies the process of\n",
        "formalizing code by lifting or reducing the burden of implementing important, yet tedious tasks and considerations\n",
        "such as:\n",
        "\n",
        "* **memory management** - reading chunks of datasets that can be processed with the available memory, something very\n",
        "  crucial for very large datasets that cannot entirely fit into the computer's memory\n",
        "* **considerate CPU usage for parallel computing** - using all but one or two CPU cores for the (parallel) computation\n",
        "  , which allows the user to continue using the computer for other activities such as reading mail, etc.\n",
        "* **pausing and resuming computation** - interrupting and resuming the computation at a more convenient time,\n",
        "  something that is especially valuable for lengthy computations.\n",
        "* **avoiding repeated computation and returning existing results** - pyUSID.Process will return existing results\n",
        "  computed using the exact same parameters instead of re-computing and storing duplicate copies of the same results.\n",
        "* **testing before computation** - checking the processing / analysis on a single unit (typically a single pixel) of\n",
        "  data before the entire data is processed. This is particularly useful for lengthy computations.\n",
        "\n",
        "Using ``pyUSID.Process``, the user only needs to address the following basic operations:\n",
        "\n",
        "1. Reading data from file\n",
        "2. Computation on a single unit of data\n",
        "3. Writing results to disk\n",
        "\n\n",
        "Components of pyUSID.Process\n",
        "-----------------------------------\n",
        "The most important functions in the Process class are:\n",
        "\n",
        "* ``__init__()`` - initiates a 'Process' object of this class after validating the inputs.\n",
        "* ``_create_results_datasets()`` - creates the HDF5 datasets and Group(s) used to store the results.\n",
        "* ``_map_function()`` - the operation that will be performed on each element in the dataset.\n",
        "* ``test()`` - This simple function lets the user test the ``map_function`` on a unit of data (a single pixel\n",
        "  typically) to see if it returns the desired results. It saves a lot of computational time by allowing the user to\n",
        "  spot-check results before computing on the entire dataset\n",
        "* ``_read_data_chunk()`` - reads the input data from one or more datasets.\n",
        "* ``_write_results_chunk()`` - writes the computed results back to the file\n",
        "* ``_unit_computation()`` - Defines how to process a chunk (multiple units) of data. This allows room for\n",
        "  pre-processing of input data and post-processing of results if necessary. If neither are required, this function\n",
        "  essentially applies the parallel computation on ``_map_function()``.\n",
        "* ``compute()`` - this does the bulk of the work of (iteratively) reading a chunk of data >> processing in parallel\n",
        "  via ``_unit_computation()`` >> calling ``write_results_chunk()`` to write data. Most sub-classes, including the one\n",
        "  below, do not need to extend / modify this function.\n",
        "\n",
        "Recommended pre-requisite reading\n",
        "---------------------------------\n",
        "* `Universal Spectroscopic and Imaging Data (USID) model </../../data_format.html>`_\n",
        "* `Crash course on HDF5 and h5py <../beginner/plot_h5py.html>`_\n",
        "* Utilities for `reading <../beginner/plot_hdf_utils_read.html>`_ and `writing <./plot_hdf_utils_write.html>`_\n",
        "  h5USID files using pyUSID\n",
        "* Crash course on `parallel processing <./plot_parallel_compute.html>`_\n",
        "\n",
        "Example problem\n",
        "---------------\n",
        "For this example, we will be working with a Band Excitation Piezoresponse Force Microscopy (BE-PFM) imaging dataset\n",
        "acquired from advanced atomic force microscopes. In this dataset, a spectra was collected for each position in a two\n",
        "dimensional grid of spatial locations. Thus, this is a three dimensional dataset that has been flattened to a two\n",
        "dimensional matrix in accordance with the USID model.\n",
        "\n",
        "This example is based on the parallel computing primer where we searched for the peak of each spectra in a dataset.\n",
        "While that example focused on comparing serial and parallel computing, we will focus on demonstrating the simplicity\n",
        "with which such a data analysis algorithm can be formalized.\n",
        "\n",
        "This example is a simplification of the pycroscopy.analysis.BESHOFitter class in our sister project - Pycroscopy.\n",
        "\n",
        ".. tip::\n",
        "    You can download and run this document as a Jupyter notebook using the link at the bottom of this page.\n",
        "\n",
        "Import necessary packages\n",
        "-------------------------\n",
        "\n"
      ],
      "metadata": {}
    },
    {
      "cell_type": "code",
      "source": [
        "from __future__ import division, print_function, absolute_import, unicode_literals\n",
        "\n",
        "# The package for accessing files in directories, etc.:\n",
        "import os\n",
        "\n",
        "# Warning package in case something goes wrong\n",
        "from warnings import warn\n",
        "import subprocess\n",
        "import sys\n",
        "\n",
        "def install(package):\n",
        "    subprocess.call([sys.executable, \"-m\", \"pip\", \"install\", package])\n",
        "# Package for downloading online files:\n",
        "try:\n",
        "    # This package is not part of anaconda and may need to be installed.\n",
        "    import wget\n",
        "except ImportError:\n",
        "    warn('wget not found.  Will install with pip.')\n",
        "    import pip\n",
        "    install('wget')\n",
        "    import wget\n",
        "\n",
        "# The mathematical computation package:\n",
        "import numpy as np\n",
        "\n",
        "# The package used for creating and manipulating HDF5 files:\n",
        "import h5py\n",
        "\n",
        "# Packages for plotting:\n",
        "import matplotlib.pyplot as plt\n",
        "\n",
        "# Finally import pyUSID:\n",
        "try:\n",
        "    import pyUSID as usid\n",
        "except ImportError:\n",
        "    warn('pyUSID not found.  Will install with pip.')\n",
        "    import pip\n",
        "    install('pyUSID')\n",
        "    import pyUSID as usid\n",
        "    \n",
        "# import the scientific function:\n",
        "import scipy\n",
        "from scipy.signal import find_peaks\n",
        "from scipy.signal import find_peaks_cwt"
      ],
      "outputs": [
        {
          "output_type": "stream",
          "name": "stderr",
          "text": [
            "C:\\Users\\lz1\\AppData\\Local\\Continuum\\anaconda3\\lib\\site-packages\\h5py\\__init__.py:36: FutureWarning: Conversion of the second argument of issubdtype from `float` to `np.floating` is deprecated. In future, it will be treated as `np.float64 == np.dtype(float).type`.\n",
            "  from ._conv import register_converters as _register_converters\n"
          ]
        }
      ],
      "execution_count": 1,
      "metadata": {
        "collapsed": false
      }
    },
    {
      "cell_type": "markdown",
      "source": [
        "The goal is to **find the amplitude at the peak in each spectra**. Clearly, the operation of finding the peak in one\n",
        "spectra is independent of the same operation on another spectra. Thus, we could divide the dataset in to N parts and\n",
        "use N CPU cores to compute the results much faster than it would take a single core to compute the results. Such\n",
        "problems are ideally suited for making use of all the advanced functionalities in the Process class.\n",
        "\n",
        "Defining the class\n",
        "===================\n",
        "In order to solve our problem, we would need to implement a ``sub-class`` of pyUSID.Process or in other words -\n",
        "**extend pyUSID.Process**. As mentioned above, the pyUSID.Process class already generalizes several important\n",
        "components of data processing. We only need to extend this class by implementing the science-specific functionality.\n",
        "The rest of the capabilities will be **inherited** from pyUSID.Process.\n",
        "\n",
        "Lets think about what operations need be performed for each of the core Process functions listed above.\n",
        "\n",
        "map_function()\n",
        "--------------\n",
        "The most important component in our new Process class is the unit computation that needs to be performed on each\n",
        "spectra. ``map_function()`` needs to take as input a single spectra and return the amplitude at the peak (a single\n",
        "value). The ``compute()`` and ``unit_computation()`` will handle the parallelization.\n",
        "\n",
        "The scipy package has a very handy function called *find_peaks_cwt()* that facilitates the search for one or more\n",
        "peaks in a spectrum. We will be using a simplified function called *find_all_peaks()*.\n",
        "The exact methodology for finding the peaks is not of interest for this\n",
        "particular example. However, this function finds the index of 0 or more peaks in the spectra. We only expect\n",
        "one peak at the center of the spectra. Therefore, we can use the ``find_all_peaks()`` function to find the peaks and\n",
        "address those situations when too few or too many (> 1) peaks are found in a single spectra. Finally, we need to use\n",
        "the index of the peak to find the amplitude from the spectra.\n",
        "\n",
        "test()\n",
        "------\n",
        "A useful test function should be able to find the peak amplitude for any single spectra in the dataset. So, given the\n",
        "index of a pixel (provided by the user), we should perform two operations:\n",
        "\n",
        "* read the spectra corresponding to that index from the HDF5 dataset\n",
        "* apply the ``map_function()`` to this spectra and return the result.\n",
        "\n",
        "The goal here is to load the smallest necessary portion of data from the HDF5 dataset to memory and test it against\n",
        "the ``map_function()``\n",
        "\n",
        "create_results_datasets()\n",
        "-------------------------\n",
        "Every Process involves a few tasks for this function:\n",
        "\n",
        "* the creation of a HDF5 group to hold the datasets containing the results - pyUSID.hdf_utils has a handy function\n",
        "  that takes care of this.\n",
        "* storing any relevant metadata regarding this processing as attributes of the HDF5 group for provenance, traceability\n",
        "  , and reproducibility.\n",
        "\n",
        "    * ``last_pixel`` is a reserved attribute that serves as a flag indicating the last pixel that was successfully\n",
        "      processed and written to the results dataset. This attribute is key for resuming partial computations.\n",
        "* the creation of HDF5 dataset(s) to hold the results. ``map_function()`` takes a spectra (1D array) and returns the\n",
        "  amplitude (a single value). Thus the input dataset (position, spectra) will be reduced to (position, 1). So, we only\n",
        "  need to create a single empty dataset to hold the results.\n",
        "\n",
        "We just need to ensure that we have a reference to the results dataset so that we can populate it with the results.\n",
        "\n",
        "write_results_chunk()\n",
        "---------------------\n",
        "The result of ``compute()`` will be a list of amplitude values. All we need to do is:\n",
        "\n",
        "* write the results into the HDF5 dataset\n",
        "* Set the ``last_pixel`` attribute to the value of the ``end_pos`` internal variable to indicate that pixels upto\n",
        "  ``end_pos`` were successfully processed. Should the computation be interrupted after this point, we could resume\n",
        "  from ``end_pos`` instead of starting from ``0`` again.\n",
        "* update the ``start_pos`` internal variable to guide compute() to process the next batch of positions / pixels\n",
        "\n"
      ],
      "metadata": {}
    },
    {
      "cell_type": "code",
      "source": [
        " def find_all_peaks(vector, width_bounds, num_steps=20, **kwargs): \n",
        "        \"\"\" This is the function that will be mapped by multiprocess. This is a wrapper around the scipy function. It uses a parameter - wavelet_widths that is configured outside this function.\n",
        "\n",
        "        Parameters\n",
        "        ----------\n",
        "        vector : 1D numpy array\n",
        "           Feature vector containing peaks\n",
        "        width_bounds : tuple / list / iterable\n",
        "           Min and max for the size of the window\n",
        "        num_steps : uint, (optional). Default = 20\n",
        "           Number of different peak widths to search\n",
        "\n",
        "        Returns\n",
        "        -------\n",
        "        peak_indices : list\n",
        "           List of indices of peaks within the prescribed peak widths\n",
        "        \"\"\"\n",
        "        # The below numpy array is used to configure the returned function wpeaks\n",
        "        wavelet_widths = np.linspace(width_bounds[0], width_bounds[1], num_steps)\n",
        "\n",
        "        peak_indices = find_peaks_cwt(np.abs(vector), wavelet_widths, **kwargs)\n",
        "\n",
        "        return peak_indices\n",
        "class PeakFinder(usid.Process):\n",
        "  \n",
        "\n",
        "    def test(self, pixel_ind):\n",
        "        \"\"\"\n",
        "        Test the algorithm on a single pixel\n",
        "\n",
        "        Parameters\n",
        "        ----------\n",
        "        pixel_ind : uint\n",
        "            Index of the pixel in the dataset that the process needs to be tested on.\n",
        "        \"\"\"\n",
        "        # First read the HDF5 dataset to get the spectra for this pixel\n",
        "        spectra = self.h5_main[pixel_ind]\n",
        "        # Next, apply the map function to the spectra. done!\n",
        "        return self._map_function(spectra)\n",
        "\n",
        "    def _create_results_datasets(self):\n",
        "        \"\"\"\n",
        "        Creates the datasets an Groups necessary to store the results.\n",
        "        There are only THREE operations happening in this function:\n",
        "        1. Creation of HDF5 group to hold results\n",
        "        2. Writing relevant metadata to this HDF5 group\n",
        "        3. Creation of a HDF5 dataset to hold results\n",
        "\n",
        "        Please see examples on utilities for writing h5USID files for more information\n",
        "        \"\"\"\n",
        "        self.process_name = 'Peak_Finding'\n",
        "\n",
        "        # 1. create a HDF5 group to hold the results\n",
        "        self.h5_results_grp = usid.hdf_utils.create_results_group(self.h5_main, self.process_name)\n",
        "\n",
        "        # 2. Write relevant metadata to the group\n",
        "        usid.hdf_utils.write_simple_attrs(self.h5_results_grp,\n",
        "                                        {'last_pixel': 0, 'algorithm': 'find_all_peaks'})\n",
        "\n",
        "        # Explicitly stating all the inputs to write_main_dataset\n",
        "        # The process will reduce the spectra at each position to a single value\n",
        "        # Therefore, the result is a 2D dataset with the same number of positions as self.h5_main\n",
        "        results_shape = (self.h5_main.shape[0], 1)\n",
        "        results_dset_name = 'Peak_Response'\n",
        "        results_quantity = 'Amplitude'\n",
        "        results_units = 'V'\n",
        "        pos_dims = None # Reusing those linked to self.h5_main\n",
        "        spec_dims = usid.write_utils.Dimension('Empty', 'a. u.', 1)\n",
        "\n",
        "        # 3. Create an empty results dataset that will hold all the results\n",
        "        self.h5_results = usid.hdf_utils.write_main_dataset(self.h5_results_grp, results_shape, results_dset_name,\n",
        "                                                          results_quantity, results_units, pos_dims, spec_dims,\n",
        "                                                          dtype=np.float32,\n",
        "                                                          h5_pos_inds=self.h5_main.h5_pos_inds,\n",
        "                                                          h5_pos_vals=self.h5_main.h5_pos_vals)\n",
        "        # Note that this function automatically creates the ancillary datasets and links them.\n",
        "\n",
        "        print('Finshed creating datasets')\n",
        "\n",
        "    def _write_results_chunk(self):\n",
        "        \"\"\"\n",
        "        Write the computed results back to the H5\n",
        "        In this case, there isn't any more additional post-processing required\n",
        "        \"\"\"\n",
        "        # write the results to the file\n",
        "        self.h5_results[self._start_pos: self._end_pos, 0] = np.array(self._results)\n",
        "\n",
        "        # Flush the results to ensure that they have indeed been written to the file\n",
        "        self.h5_main.file.flush()\n",
        "\n",
        "        # update the 'last_pixel' to indicate that the process was succesfully completed on this many positions:\n",
        "        self.h5_results_grp.attrs['last_pixel'] = self._end_pos\n",
        "\n",
        "        # Now update the start position\n",
        "        self._start_pos = self._end_pos\n",
        "\n",
        "    @staticmethod\n",
        "    def _map_function(spectra, *args, **kwargs):\n",
        "        \"\"\"\n",
        "        This is the function that will be applied to each pixel in the dataset.\n",
        "        It's job is to demonstrate what needs to be done for each pixel in the dataset.\n",
        "        pyUSID.Process will handle the parallel computation and memory management\n",
        "\n",
        "        As in typical scientific problems, the results from find_all_peaks() need to be\n",
        "        post-processed\n",
        "\n",
        "        In this case, the find_all_peaks() function can sometimes return 0 or more than one peak\n",
        "        for spectra that are very noisy\n",
        "\n",
        "        Knowing that the peak is typically at the center of the spectra,\n",
        "        we return the central index when no peaks were found\n",
        "        Or the index closest to the center when multiple peaks are found\n",
        "\n",
        "        Finally once we have a single index, we need to index the spectra by that index\n",
        "        in order to get the amplitude at that frequency.\n",
        "        \"\"\"\n",
        "\n",
        "        peak_inds = find_all_peaks(spectra, [20, 60], num_steps=30)\n",
        "\n",
        "        central_ind = len(spectra) // 2\n",
        "        if len(peak_inds) == 0:\n",
        "            # too few peaks\n",
        "            # set peak to center of spectra\n",
        "            val = central_ind\n",
        "        elif len(peak_inds) > 1:\n",
        "            # too many peaks\n",
        "            # set to peak closest to center of spectra\n",
        "            dist = np.abs(peak_inds - central_ind)\n",
        "            val = peak_inds[np.argmin(dist)]\n",
        "        else:\n",
        "            # normal situation\n",
        "            val = peak_inds[0]\n",
        "        # Finally take the amplitude of the spectra at this index\n",
        "        return np.abs(spectra[val])"
      ],
      "outputs": [],
      "execution_count": 8,
      "metadata": {
        "collapsed": false
      }
    },
    {
      "cell_type": "markdown",
      "source": [
        "Comments\n",
        "---------\n",
        "* The class appears to be large mainly because of comments that explain what each line of code is doing.\n",
        "* Several functions of pyUSID.Process such as ``__init__()`` and ``compute()`` were inherited from the\n",
        "  pyUSID.Process class.\n",
        "* In simple cases such as this, we don't even have to implement a function to read the data from the dataset since\n",
        "  pyUSID.Process automatically calculates how much of the data iss safe to load into memory. In this case, the\n",
        "  dataset is far smaller than the computer memory, so the entire dataset can be loaded and processed at once.\n",
        "* In this example, we did not need any pre-processing or post-processing of results but those can be implemented too\n",
        "  if necessary.\n",
        "* The majority of the code in this class would have to be written regardless of whether the intention is formalize the\n",
        "  data processing or not. In fact, we would argue that **more** code may need to be written than what is shown below\n",
        "  if one were **not** formalizing the data processing (data reading, parallel computing, memory management, etc.)\n",
        "* This is the simplest possible implementation of Process. Certain features such as checking for existing results and\n",
        "  resuming partial computations have not been shown in this example.\n",
        "\n",
        "Use the class\n",
        "==============\n",
        "Now that the class has been written, it can be applied to an actual dataset.\n",
        "\n",
        "Load the dataset\n",
        "----------------\n",
        "In order to demonstrate this Process class, we will be using a real experimental dataset that is available on the\n",
        "pyUSID GitHub project. First, lets download this file from Github:\n",
        "\n"
      ],
      "metadata": {}
    },
    {
      "cell_type": "code",
      "source": [
        "h5_path = 'temp.h5'\n",
        "url = 'https://raw.githubusercontent.com/pycroscopy/pyUSID/master/data/BELine_0004.h5'\n",
        "if os.path.exists(h5_path):\n",
        "    os.remove(h5_path)\n",
        "_ = wget.download(url, h5_path, bar=None)"
      ],
      "outputs": [],
      "execution_count": 3,
      "metadata": {
        "collapsed": false
      }
    },
    {
      "cell_type": "markdown",
      "source": [
        "Lets open the file in an editable (r+) mode and look at the contents:\n",
        "\n"
      ],
      "metadata": {}
    },
    {
      "cell_type": "code",
      "source": [
        "h5_file = h5py.File(h5_path, mode='r+')\n",
        "print('File contents:\\n')\n",
        "usid.hdf_utils.print_tree(h5_file)"
      ],
      "outputs": [
        {
          "output_type": "stream",
          "name": "stdout",
          "text": [
            "File contents:\n",
            "\n",
            "/\n",
            "├ Measurement_000\n",
            "  ---------------\n",
            "  ├ Channel_000\n",
            "    -----------\n",
            "    ├ Bin_FFT\n",
            "    ├ Bin_Frequencies\n",
            "    ├ Bin_Indices\n",
            "    ├ Bin_Step\n",
            "    ├ Bin_Wfm_Type\n",
            "    ├ Excitation_Waveform\n",
            "    ├ Noise_Floor\n",
            "    ├ Position_Indices\n",
            "    ├ Position_Values\n",
            "    ├ Raw_Data\n",
            "    ├ Spatially_Averaged_Plot_Group_000\n",
            "      ---------------------------------\n",
            "      ├ Bin_Frequencies\n",
            "      ├ Mean_Spectrogram\n",
            "      ├ Spectroscopic_Parameter\n",
            "      ├ Step_Averaged_Response\n",
            "    ├ Spectroscopic_Indices\n",
            "    ├ Spectroscopic_Values\n",
            "    ├ UDVS\n",
            "    ├ UDVS_Indices\n"
          ]
        }
      ],
      "execution_count": 4,
      "metadata": {
        "collapsed": false
      }
    },
    {
      "cell_type": "markdown",
      "source": [
        "The focus of this example is not on the data storage or formatting but rather on demonstrating our new Process class\n",
        "so lets dive straight into the main dataset that requires analysis of the spectra:\n",
        "\n"
      ],
      "metadata": {}
    },
    {
      "cell_type": "code",
      "source": [
        "h5_chan_grp = h5_file['Measurement_000/Channel_000']\n",
        "\n",
        "# Accessing the dataset of interest:\n",
        "h5_main = usid.USIDataset(h5_chan_grp['Raw_Data'])\n",
        "print('\\nThe main dataset:\\n------------------------------------')\n",
        "print(h5_main)\n",
        "\n",
        "# Extract some metadata:\n",
        "num_rows, num_cols = h5_main.pos_dim_sizes\n",
        "freq_vec = h5_main.get_spec_values('Frequency') * 1E-3"
      ],
      "outputs": [
        {
          "output_type": "stream",
          "name": "stdout",
          "text": [
            "\n",
            "The main dataset:\n",
            "------------------------------------\n",
            "<HDF5 dataset \"Raw_Data\": shape (16384, 119), type \"<c8\">\n",
            "located at: \n",
            "\t/Measurement_000/Channel_000/Raw_Data \n",
            "Data contains: \n",
            "\tCantilever Vertical Deflection (V) \n",
            "Data dimensions and original shape: \n",
            "Position Dimensions: \n",
            "\tX - size: 128 \n",
            "\tY - size: 128 \n",
            "Spectroscopic Dimensions: \n",
            "\tFrequency - size: 119\n",
            "Data Type:\n",
            "\tcomplex64\n"
          ]
        }
      ],
      "execution_count": 5,
      "metadata": {
        "collapsed": false
      }
    },
    {
      "cell_type": "markdown",
      "source": [
        "Use the Process class\n",
        "======================\n",
        "\n",
        "Instantiation\n",
        "-------------\n",
        "Note that the instantiation of the new ``PeakFinder`` Process class only requires that we supply the main dataset on\n",
        "which the computation will be performed:\n",
        "\n"
      ],
      "metadata": {}
    },
    {
      "cell_type": "code",
      "source": [
        "fitter = PeakFinder(h5_main)"
      ],
      "outputs": [
        {
          "output_type": "stream",
          "name": "stdout",
          "text": [
            "Consider calling test() to check results before calling compute() which computes on the entire dataset and writes back to the HDF5 file\n"
          ]
        }
      ],
      "execution_count": 6,
      "metadata": {
        "collapsed": false
      }
    },
    {
      "cell_type": "markdown",
      "source": [
        "test()\n",
        "------\n",
        "As advised, lets test the ``PeakFinder`` on an example pixel:\n",
        "\n"
      ],
      "metadata": {}
    },
    {
      "cell_type": "code",
      "source": [
        "row_ind, col_ind = 103, 19\n",
        "pixel_ind = col_ind + row_ind * num_cols\n",
        "\n",
        "# Testing is as simple as supplying a pixel index\n",
        "amplitude = fitter.test(pixel_ind)"
      ],
      "outputs": [],
      "execution_count": 9,
      "metadata": {
        "collapsed": false
      }
    },
    {
      "cell_type": "markdown",
      "source": [
        "Now, let's visualize the results of the test:\n",
        "\n"
      ],
      "metadata": {}
    },
    {
      "cell_type": "code",
      "source": [
        "spectra = h5_main[pixel_ind]\n",
        "\n",
        "fig, axis = plt.subplots(figsize=(4, 4))\n",
        "axis.scatter(freq_vec, np.abs(spectra), c='black')\n",
        "axis.axhline(amplitude, color='r', linewidth=2)\n",
        "axis.set_xlabel('Frequency (kHz)', fontsize=14)\n",
        "axis.set_ylabel('Amplitude (V)')\n",
        "axis.set_ylim([0, 1.1 * np.max(np.abs(spectra))])\n",
        "axis.set_title('PeakFinder applied to pixel\\nat row: {}, col: {}'.format(row_ind, col_ind), fontsize=16);"
      ],
      "outputs": [
        {
          "output_type": "display_data",
          "data": {
            "text/plain": [
              "<Figure size 288x288 with 1 Axes>"
            ],
            "image/png": "[encoded data removed]"
          },
          "metadata": {}
        }
      ],
      "execution_count": 10,
      "metadata": {
        "collapsed": false
      }
    },
    {
      "cell_type": "markdown",
      "source": [
        "If we weren't happy with the results, we could tweak some parameters when initializing the ``PeakFinder`` object and try\n",
        "again. However, for the sake of simplicity, we don't have any parameters we can / want to adjust in this case. So,\n",
        "lets proceed.\n",
        "\n",
        "compute()\n",
        "---------\n",
        "Now that we know that the ``PeakFinder`` appears to be performing as expected, we can apply the amplitude finding\n",
        "\n"
      ],
      "metadata": {}
    },
    {
      "cell_type": "code",
      "source": [
        "h5_results_grp = fitter.compute()\n",
        "print(h5_results_grp)"
      ],
      "outputs": [
        {
          "output_type": "stream",
          "name": "stdout",
          "text": [
            "Finshed creating datasets\n",
            "You maybe able to abort this computation at any time and resume at a later time!\n",
            "\tIf you are operating in a python console, press Ctrl+C or Cmd+C to abort\n",
            "\tIf you are in a Jupyter notebook, click on \"Kernel\">>\"Interrupt\"\n",
            "Starting computing on 10 cores (requested 10 cores)\n",
            "Finished parallel computation\n",
            "Completed computation on chunk. Writing to file.\n",
            "<HDF5 group \"/Measurement_000/Channel_000/Raw_Data-Peak_Finding_000\" (3 members)>\n"
          ]
        }
      ],
      "execution_count": 11,
      "metadata": {
        "collapsed": false
      }
    },
    {
      "cell_type": "markdown",
      "source": [
        "Lets take a look again at the file contents. We should be seeing a new HDF5 group called ``Raw_Data-Peak_Finding_000`` and\n",
        "three datasets within the group. Among the datasets is ``Peak_Response`` that contains the peak amplitudes we are\n",
        "interested in.\n",
        "\n"
      ],
      "metadata": {}
    },
    {
      "cell_type": "code",
      "source": [
        "usid.hdf_utils.print_tree(h5_file)"
      ],
      "outputs": [
        {
          "output_type": "stream",
          "name": "stdout",
          "text": [
            "/\n",
            "├ Measurement_000\n",
            "  ---------------\n",
            "  ├ Channel_000\n",
            "    -----------\n",
            "    ├ Bin_FFT\n",
            "    ├ Bin_Frequencies\n",
            "    ├ Bin_Indices\n",
            "    ├ Bin_Step\n",
            "    ├ Bin_Wfm_Type\n",
            "    ├ Excitation_Waveform\n",
            "    ├ Noise_Floor\n",
            "    ├ Position_Indices\n",
            "    ├ Position_Values\n",
            "    ├ Raw_Data\n",
            "    ├ Raw_Data-Peak_Finding_000\n",
            "      -------------------------\n",
            "      ├ Peak_Response\n",
            "      ├ Spectroscopic_Indices\n",
            "      ├ Spectroscopic_Values\n",
            "    ├ Spatially_Averaged_Plot_Group_000\n",
            "      ---------------------------------\n",
            "      ├ Bin_Frequencies\n",
            "      ├ Mean_Spectrogram\n",
            "      ├ Spectroscopic_Parameter\n",
            "      ├ Step_Averaged_Response\n",
            "    ├ Spectroscopic_Indices\n",
            "    ├ Spectroscopic_Values\n",
            "    ├ UDVS\n",
            "    ├ UDVS_Indices\n"
          ]
        }
      ],
      "execution_count": 12,
      "metadata": {
        "collapsed": false
      }
    },
    {
      "cell_type": "markdown",
      "source": [
        "Lets look at this ``Peak_Response`` dataset:\n",
        "\n"
      ],
      "metadata": {}
    },
    {
      "cell_type": "code",
      "source": [
        "h5_peak_amps = usid.USIDataset(h5_results_grp['Peak_Response'])\n",
        "print(h5_peak_amps)"
      ],
      "outputs": [
        {
          "output_type": "stream",
          "name": "stdout",
          "text": [
            "<HDF5 dataset \"Peak_Response\": shape (16384, 1), type \"<f4\">\n",
            "located at: \n",
            "\t/Measurement_000/Channel_000/Raw_Data-Peak_Finding_000/Peak_Response \n",
            "Data contains: \n",
            "\tAmplitude (V) \n",
            "Data dimensions and original shape: \n",
            "Position Dimensions: \n",
            "\tX - size: 128 \n",
            "\tY - size: 128 \n",
            "Spectroscopic Dimensions: \n",
            "\tEmpty - size: 1\n",
            "Data Type:\n",
            "\tfloat32\n"
          ]
        }
      ],
      "execution_count": 13,
      "metadata": {
        "collapsed": false
      }
    },
    {
      "cell_type": "markdown",
      "source": [
        "Visualize\n",
        "---------\n",
        "Since ``Peak_Response`` is a USIDataset, we could use its ability to provide its own N dimensional form:\n",
        "\n"
      ],
      "metadata": {}
    },
    {
      "cell_type": "code",
      "source": [
        "amplitudes = np.squeeze(h5_peak_amps.get_n_dim_form())\n",
        "print('N dimensional shape of Peak_Response: {}'.format(amplitudes.shape))"
      ],
      "outputs": [
        {
          "output_type": "stream",
          "name": "stdout",
          "text": [
            "N dimensional shape of Peak_Response: (128, 128)\n"
          ]
        }
      ],
      "execution_count": 14,
      "metadata": {
        "collapsed": false
      }
    },
    {
      "cell_type": "markdown",
      "source": [
        "Finally, we can look at a map of the peak amplitude for the entire dataset:\n",
        "\n"
      ],
      "metadata": {}
    },
    {
      "cell_type": "code",
      "source": [
        "fig, axis = plt.subplots(figsize=(4, 4))\n",
        "axis.imshow(amplitudes)\n",
        "axis.set_title('Peak Amplitudes', fontsize=16)"
      ],
      "outputs": [
        {
          "output_type": "execute_result",
          "execution_count": 15,
          "data": {
            "text/plain": [
              "Text(0.5,1,'Peak Amplitudes')"
            ]
          },
          "metadata": {}
        },
        {
          "output_type": "display_data",
          "data": {
            "text/plain": [
              "<Figure size 288x288 with 1 Axes>"
            ],
            "image/png": "[encoded data removed]"
          },
          "metadata": {}
        }
      ],
      "execution_count": 15,
      "metadata": {
        "collapsed": false
      }
    },
    {
      "cell_type": "markdown",
      "source": [
        "Clean up\n",
        "--------\n",
        "Finally lets close and delete the example HDF5 file\n",
        "\n"
      ],
      "metadata": {}
    },
    {
      "cell_type": "code",
      "source": [
        "h5_file.close()\n",
        "os.remove(h5_path)"
      ],
      "outputs": [],
      "execution_count": 16,
      "metadata": {
        "collapsed": false
      }
    },
    {
      "cell_type": "markdown",
      "source": [
        "Flow of functions\n",
        "==================\n",
        "\n",
        "By default, very few functions (``test()``, ``compute()``) are exposed to users. This means that one of these\n",
        "functions calls a chain of the other functions in the class.\n",
        "\n",
        "init()\n",
        "-------\n",
        "Instantiating the class via something like: ``fitter = PeakFinder(h5_main)`` happens in two parts:\n",
        "\n",
        "1. First the subclass (``PeakFinder``) calls the initialization function in ``Process`` to let it run some checks:\n",
        "\n",
        "  * Check if the provided ``h5_main`` is indeed a ``Main`` dataset\n",
        "  * call ``set_memory_and_cores()`` to figure out how many pixels can be read into memory at any given time\n",
        "  * Initialize some basic variables\n",
        "\n",
        "2. Next, the subclass continues any further validation / checks / initialization - this was not implemented for\n",
        "   ``PeakFinder`` but here are some things that can be done:\n",
        "\n",
        "   * Find HDF5 groups which either have partial or fully computed results already for the same parameters by calling\n",
        "     ``check_for_duplicates()``\n",
        "\n",
        "test()\n",
        "-----------\n",
        "This function only calls the ``map_function()`` by definition\n",
        "\n",
        "compute()\n",
        "----------\n",
        "Here is how compute() works:\n",
        "\n",
        "* Check if you can return existing results for the requested computation and return if available by calling either:\n",
        "\n",
        "  * ``get_existing_datasets()`` - reads all necessary parameters and gets references to the HDF5 datasets that should\n",
        "     contain the results\n",
        "  * ``use_partial_computation()`` - pick the first partially computed results group that was discovered by\n",
        "    ``check_for_duplicates()``\n",
        "* call ``create_results_datasets()`` to create the HDF5 datasets and group objects\n",
        "* read the first chunk of data via ``read_data_chunk()`` into ``self._data``\n",
        "* Until the source dataset is fully read (``self._data is not None``), do:\n",
        "\n",
        "  * call ``unit_computation()`` on ``self._data``\n",
        "\n",
        "    * By default ``unit_computation()`` just maps ``map_function()`` onto ``self._data``\n",
        "  * call ``write_results_chunk()`` to write ``self._results`` into the HDF5 datasets\n",
        "  * read the next chunk of data into ``self._data``\n",
        "\n",
        "use_partial_computation()\n",
        "--------------------------\n",
        "Not used in ``PeakFinder`` but this function can be called to manually specify an HDF5 group containing partial\n",
        "results\n",
        "\n",
        "We encourage you to read the source code for more information.\n",
        "\n",
        "Advanced examples\n",
        "-----------------\n",
        "Please see the following pycroscopy classes to learn more about the advanced functionalities such as resuming\n",
        "computations, checking of existing results, using unit_computation(), etc.:\n",
        "\n",
        "* ``pycroscopy.processing.SignalFilter``\n",
        "* ``pycroscopy.analysis.GIVBayesian``\n",
        "\n",
        "Tips and tricks\n",
        "================\n",
        "Here we will cover a few common use-cases that will hopefully guide you in structuring your computational problem\n",
        "\n",
        "Juggling dimensions\n",
        "-------------------\n",
        "We intentionally chose a simple example above to quickly illustrate the main components / philosophy of the Process\n",
        "class. The above example had two position dimensions collapsed into the first axis of the dataset and a single\n",
        "spectroscopic dimension (``Frequency``). What if the spectra were acquired as a function of other variables such as a\n",
        "``DC bias``? In other words, the dataset would now have N spectra per location.  In such cases, the dataset would have\n",
        "2 spectroscopic dimensions: ``Frequency`` and ``DC bias``. We cannot therefore simply map the ``map_function()`` to\n",
        "the data in every pixel. This is because the ``map_function()`` expects to work over a single spectra whereas we now\n",
        "have N spectra per pixel. Contrary to what one would assume, we do not need to throw away all the code we wrote above.\n",
        "We only need to add code to juggle / move the dimensions around till the problem looks similar to what we had above.\n",
        "\n",
        "In other words, the above problem was written for a dataset of shape ``(P, S)`` where ``P`` is the number of positions\n",
        "and ``S`` is the length of a single spectra. Now, we have data of shape ``(P, N*S)`` where ``N`` is the number of\n",
        "spectra per position. In order to use most of the code already written above, we need to reshape the data to the shape\n",
        "``(P*N, S)``. Now, we can easily map the existing ``map_function()`` on this ``(P*N, S)`` dataset.\n",
        "\n",
        "As far as implementation is concerned, we would need to add the reshaping step to ``_read_data_chunk()`` as:\n",
        "\n",
        ".. code-block:: python\n",
        "\n",
        "    def _read_data_chunk(self):\n",
        "        super(PeakFinder, self)._read_data_chunk()\n",
        "        # The above line causes the base Process class to read X pixels from the dataset into self.data\n",
        "        # All we need to do now is reshape self.data from (X, N*S) to (X*N, S):\n",
        "        # Assuming that we know N (num_spectra) through some metadata:\n",
        "        self.data = self.data.reshape(self.data.shape[0]* num_spectra, -1)\n",
        "\n",
        "Recall that ``_read_data_chunk()`` reads ``X`` pixels at a time where ``X`` is the largest number of pixels whose raw\n",
        "data, intermediate products, and results can simultaneously be held in memory. The dataset used for the example above\n",
        "is tractable enough that the entire data is loaded at once, meaning that ``X = P`` in this case.\n",
        "\n",
        "From here, on, the computation would continue as is but as expected, the results would also consequently be of shape\n",
        "``(P*N)``. We would have to reverse the reshape operation to get back the results in the form: ``(P, N)``. So we\n",
        "would prepend the reverse reshape operation to ``_write_results_chunk()``:\n",
        "\n",
        ".. code-block:: python\n",
        "\n",
        "    def _write_results_chunk(self):\n",
        "        # Recall that the results from the computation are stored in a list called self._results\n",
        "        self._results = np.array(self._results)  # convert from list to numpy array\n",
        "        self._results = self._results.reshape(-1, num_spectra)\n",
        "        # Now self._results is of shape (P, N) and we can store it in the HDF5 dataset as we did above.\n",
        "\n",
        "Computing on chunks instead of mapping\n",
        "--------------------------------------\n",
        "In certain cases, the computation is a little more complex that the ``map_function()`` cannot directly be mapped to\n",
        "the data. Alternatively, in some cases the ``map_function()`` needs to mapped multiple times or different sections of\n",
        "the ``self.data``. For such cases, the ``_unit_computation()`` in ``Process`` provides far more flexibility to the\n",
        "developer. Please see the ``pycroscopy.processing.SignalFilter`` and ``pycroscopy.analysis.GIVBayesian`` for examples.\n",
        "\n",
        "By default, ``_unit_computation()`` maps the ``map_function()`` to ``self.data`` using ``parallel_compute()`` and\n",
        "stores the results in ``self._results``. Recall that ``self.data`` contains data for ``X`` pixels.\n",
        "For example, ``_unit_computation()`` in ``pycroscopy.analysis.GIVBayesian`` breaks up the spectra (second axis) of\n",
        "``self.data`` into two halves and computes the results separately for each half. ``_unit_computation()`` for this\n",
        "class calls ``parallel_compute()`` twice - to map the ``map_function()`` to each half of the data chunk. This is a\n",
        "functionality that is challenging to efficiently attain without ``_unit_computation()``. Note that when the\n",
        "``_unit_computation()`` is overridden, the developer is responsible for the correct usage of ``parallel_compute()``,\n",
        "especially passing arguments and keyword arguments.\n",
        "\n",
        "Other Notes\n",
        "-----------\n",
        "We are exploring Dask as a framework for embarrassingly parallel computation.\n",
        "\n"
      ],
      "metadata": {}
    }
  ],
  "metadata": {
    "kernelspec": {
      "name": "python3",
      "language": "python",
      "display_name": "Python 3"
    },
    "language_info": {
      "name": "python",
      "version": "3.6.5",
      "mimetype": "text/x-python",
      "codemirror_mode": {
        "name": "ipython",
        "version": 3
      },
      "pygments_lexer": "ipython3",
      "nbconvert_exporter": "python",
      "file_extension": ".py"
    },
    "kernel_info": {
      "name": "python3"
    },
    "nteract": {
      "version": "0.9.0"
    }
  },
  "nbformat": 4,
  "nbformat_minor": 0
}